{
 "cells": [
  {
   "cell_type": "code",
   "execution_count": 1,
   "metadata": {
    "colab": {
     "base_uri": "https://localhost:8080/",
     "height": 340
    },
    "colab_type": "code",
    "executionInfo": {
     "elapsed": 11541,
     "status": "ok",
     "timestamp": 1582541684670,
     "user": {
      "displayName": "Виталий Гречачин",
      "photoUrl": "https://lh3.googleusercontent.com/a-/AAuE7mDZJF3eghaET6SaBIhXkw2Ij3k2tPFd5G2ZbRvU8g=s64",
      "userId": "00685398523661527923"
     },
     "user_tz": -300
    },
    "id": "4oYPfzQB3bBs",
    "outputId": "df0cdf3d-3828-4fc1-d4ec-dca099c80ff3"
   },
   "outputs": [],
   "source": [
    "# Импортируем необходимые инструменты\n",
    "\n",
    "# Data\n",
    "import pandas as pd\n",
    "import numpy as np\n",
    "from scipy.sparse import hstack\n",
    "\n",
    "\n",
    "# NLP\n",
    "import nltk\n",
    "import spacy\n",
    "from nltk.stem import WordNetLemmatizer \n",
    "from nltk.corpus import stopwords\n",
    "\n",
    "# ML\n",
    "import sklearn\n",
    "\n",
    "from sklearn.svm import LinearSVC\n",
    "from sklearn.linear_model import LogisticRegression\n",
    "\n",
    "from sklearn.model_selection import train_test_split, GridSearchCV, cross_val_score\n",
    "from sklearn.feature_extraction.text import TfidfVectorizer, CountVectorizer\n",
    "from sklearn.metrics import accuracy_score, precision_score, recall_score, f1_score, roc_auc_score\n",
    "\n",
    "from catboost import Pool, CatBoostClassifier\n",
    "\n",
    "# Graphs\n",
    "import seaborn as sns\n",
    "import matplotlib.pyplot as plt\n",
    "\n",
    "# My preprocessing tools\n",
    "from utils import *"
   ]
  },
  {
   "cell_type": "code",
   "execution_count": 2,
   "metadata": {
    "colab": {
     "base_uri": "https://localhost:8080/",
     "height": 190
    },
    "colab_type": "code",
    "executionInfo": {
     "elapsed": 19230,
     "status": "ok",
     "timestamp": 1582541744073,
     "user": {
      "displayName": "Виталий Гречачин",
      "photoUrl": "https://lh3.googleusercontent.com/a-/AAuE7mDZJF3eghaET6SaBIhXkw2Ij3k2tPFd5G2ZbRvU8g=s64",
      "userId": "00685398523661527923"
     },
     "user_tz": -300
    },
    "id": "IA1yKYjS89ZV",
    "outputId": "33513f12-44d0-40b7-8fd1-e77e940aa97f"
   },
   "outputs": [],
   "source": [
    "# Настроим расположение файлов для работы в Google Colab или на своем рабочем месте\n",
    "\n",
    "try:\n",
    "    from google.colab import drive\n",
    "    is_in_colab = True\n",
    "except:\n",
    "    is_in_colab = False\n",
    "\n",
    "if is_in_colab:\n",
    "    nltk.download('stopwords')\n",
    "    nltk.download('wordnet')\n",
    "    drive.mount('/content/drive')\n",
    "    data_folder = r'/content/drive/My Drive/Colab/toxic/'\n",
    "else:\n",
    "    data_folder = r'./data/'\n"
   ]
  },
  {
   "cell_type": "code",
   "execution_count": 3,
   "metadata": {
    "colab": {},
    "colab_type": "code",
    "id": "rLWvLq9G9RUS"
   },
   "outputs": [],
   "source": [
    "# Загружаем необходимые данные: датасет, стоп слова, ненормативная лексика.\n",
    "# Я заранее подготовил текстовый файл \"badwords.txt\" со списком ненормативной лексики.\n",
    "\n",
    "stop_words = set(stopwords.words('english'))\n",
    "with open(data_folder + 'badwords.txt') as file:  \n",
    "  bad_words = set(file.read().split('\\n'))\n",
    "data = pd.read_csv(data_folder + '/train.csv')"
   ]
  },
  {
   "cell_type": "markdown",
   "metadata": {
    "colab_type": "text",
    "id": "E9m_HqCH10lI"
   },
   "source": [
    "## Посмотрим данные"
   ]
  },
  {
   "cell_type": "code",
   "execution_count": 4,
   "metadata": {
    "colab": {
     "base_uri": "https://localhost:8080/",
     "height": 359
    },
    "colab_type": "code",
    "executionInfo": {
     "elapsed": 512,
     "status": "ok",
     "timestamp": 1582541892143,
     "user": {
      "displayName": "Виталий Гречачин",
      "photoUrl": "https://lh3.googleusercontent.com/a-/AAuE7mDZJF3eghaET6SaBIhXkw2Ij3k2tPFd5G2ZbRvU8g=s64",
      "userId": "00685398523661527923"
     },
     "user_tz": -300
    },
    "id": "5ASl1HVw2A8I",
    "outputId": "44ac3f46-80d7-4b82-e93c-fae1c48c69f5"
   },
   "outputs": [
    {
     "data": {
      "text/html": [
       "<div>\n",
       "<style scoped>\n",
       "    .dataframe tbody tr th:only-of-type {\n",
       "        vertical-align: middle;\n",
       "    }\n",
       "\n",
       "    .dataframe tbody tr th {\n",
       "        vertical-align: top;\n",
       "    }\n",
       "\n",
       "    .dataframe thead th {\n",
       "        text-align: right;\n",
       "    }\n",
       "</style>\n",
       "<table border=\"1\" class=\"dataframe\">\n",
       "  <thead>\n",
       "    <tr style=\"text-align: right;\">\n",
       "      <th></th>\n",
       "      <th>comment_text</th>\n",
       "      <th>toxic</th>\n",
       "    </tr>\n",
       "  </thead>\n",
       "  <tbody>\n",
       "    <tr>\n",
       "      <th>0</th>\n",
       "      <td>Barcelona football seasons (early 20th century...</td>\n",
       "      <td>0</td>\n",
       "    </tr>\n",
       "    <tr>\n",
       "      <th>1</th>\n",
       "      <td>\"\\n\\n answering questions \\n\\nI won't have a c...</td>\n",
       "      <td>0</td>\n",
       "    </tr>\n",
       "    <tr>\n",
       "      <th>2</th>\n",
       "      <td>\"\\n\\nIssues\\nOnefortyone, the reason why I rem...</td>\n",
       "      <td>0</td>\n",
       "    </tr>\n",
       "    <tr>\n",
       "      <th>3</th>\n",
       "      <td>\"\\nIn that case would \"\"new age\"\" at least be ...</td>\n",
       "      <td>0</td>\n",
       "    </tr>\n",
       "    <tr>\n",
       "      <th>4</th>\n",
       "      <td>Mr. Wolf,\\nWe need to have a serious talk abou...</td>\n",
       "      <td>0</td>\n",
       "    </tr>\n",
       "    <tr>\n",
       "      <th>5</th>\n",
       "      <td>\"Please note that DPeterson has now starting a...</td>\n",
       "      <td>0</td>\n",
       "    </tr>\n",
       "    <tr>\n",
       "      <th>6</th>\n",
       "      <td>Bald Eagle\\nI've addressed all your points so ...</td>\n",
       "      <td>0</td>\n",
       "    </tr>\n",
       "    <tr>\n",
       "      <th>7</th>\n",
       "      <td>SARAH \\n\\nYou deleted it, but it remains. I em...</td>\n",
       "      <td>0</td>\n",
       "    </tr>\n",
       "    <tr>\n",
       "      <th>8</th>\n",
       "      <td>Rand Paul \\n\\nAre you monitoring Rand Paul?  I...</td>\n",
       "      <td>0</td>\n",
       "    </tr>\n",
       "    <tr>\n",
       "      <th>9</th>\n",
       "      <td>Poor AFD rationales \\n Wikipedia:Articles for ...</td>\n",
       "      <td>0</td>\n",
       "    </tr>\n",
       "  </tbody>\n",
       "</table>\n",
       "</div>"
      ],
      "text/plain": [
       "                                        comment_text  toxic\n",
       "0  Barcelona football seasons (early 20th century...      0\n",
       "1  \"\\n\\n answering questions \\n\\nI won't have a c...      0\n",
       "2  \"\\n\\nIssues\\nOnefortyone, the reason why I rem...      0\n",
       "3  \"\\nIn that case would \"\"new age\"\" at least be ...      0\n",
       "4  Mr. Wolf,\\nWe need to have a serious talk abou...      0\n",
       "5  \"Please note that DPeterson has now starting a...      0\n",
       "6  Bald Eagle\\nI've addressed all your points so ...      0\n",
       "7  SARAH \\n\\nYou deleted it, but it remains. I em...      0\n",
       "8  Rand Paul \\n\\nAre you monitoring Rand Paul?  I...      0\n",
       "9  Poor AFD rationales \\n Wikipedia:Articles for ...      0"
      ]
     },
     "execution_count": 4,
     "metadata": {},
     "output_type": "execute_result"
    }
   ],
   "source": [
    "data.head(10)"
   ]
  },
  {
   "cell_type": "markdown",
   "metadata": {
    "colab_type": "text",
    "id": "uEPY76Cp2UjK"
   },
   "source": [
    "У нас 2 колонки: комментарий и класс"
   ]
  },
  {
   "cell_type": "code",
   "execution_count": 5,
   "metadata": {
    "colab": {
     "base_uri": "https://localhost:8080/",
     "height": 34
    },
    "colab_type": "code",
    "executionInfo": {
     "elapsed": 597,
     "status": "ok",
     "timestamp": 1582542004978,
     "user": {
      "displayName": "Виталий Гречачин",
      "photoUrl": "https://lh3.googleusercontent.com/a-/AAuE7mDZJF3eghaET6SaBIhXkw2Ij3k2tPFd5G2ZbRvU8g=s64",
      "userId": "00685398523661527923"
     },
     "user_tz": -300
    },
    "id": "Oj9FNtf82hBI",
    "outputId": "8e706796-9454-4bcd-f359-97653cd08062"
   },
   "outputs": [
    {
     "data": {
      "text/plain": [
       "2"
      ]
     },
     "execution_count": 5,
     "metadata": {},
     "output_type": "execute_result"
    }
   ],
   "source": [
    "# Узнаем количество классов\n",
    "data.toxic.nunique()"
   ]
  },
  {
   "cell_type": "markdown",
   "metadata": {
    "colab_type": "text",
    "id": "rop_wA4o2ww7"
   },
   "source": [
    "Перед нами задача бинарной классификации."
   ]
  },
  {
   "cell_type": "code",
   "execution_count": 6,
   "metadata": {
    "colab": {
     "base_uri": "https://localhost:8080/",
     "height": 34
    },
    "colab_type": "code",
    "executionInfo": {
     "elapsed": 670,
     "status": "ok",
     "timestamp": 1582542088511,
     "user": {
      "displayName": "Виталий Гречачин",
      "photoUrl": "https://lh3.googleusercontent.com/a-/AAuE7mDZJF3eghaET6SaBIhXkw2Ij3k2tPFd5G2ZbRvU8g=s64",
      "userId": "00685398523661527923"
     },
     "user_tz": -300
    },
    "id": "4-JDVFB-2UNi",
    "outputId": "bee4185e-ac91-48cf-ac12-b5622d854603"
   },
   "outputs": [
    {
     "data": {
      "text/plain": [
       "0.09071466196190923"
      ]
     },
     "execution_count": 6,
     "metadata": {},
     "output_type": "execute_result"
    },
    {
     "data": {
      "image/png": "[encoded data removed]",
      "text/plain": [
       "<Figure size 432x288 with 1 Axes>"
      ]
     },
     "metadata": {
      "needs_background": "light"
     },
     "output_type": "display_data"
    }
   ],
   "source": [
    "# Узнаем соотношение классов\n",
    "data.toxic.hist()\n",
    "data.toxic.mean()"
   ]
  },
  {
   "cell_type": "markdown",
   "metadata": {
    "colab_type": "text",
    "id": "Q5tKzCMU2_5v"
   },
   "source": [
    "К сожалению, мы имеем дело с несбалансированными данными. Теперь нам необходимо выбрать метрику оценки качества предсказаний. Для несбалансированных данных мы не можем использовать accuracy, поскольку если все время предсказывать нулевой класс, то мы получим accuracy 0.9. В тоже время precision и recall будут равны 0, поэтому мы можем использовать F1 для оценки качества предсказаний. Кроме F1, адекватными метриками могут послужить cohen_kappa_score и roc_auc_score. Мы будем использовать F1."
   ]
  },
  {
   "cell_type": "code",
   "execution_count": 7,
   "metadata": {
    "colab": {
     "base_uri": "https://localhost:8080/",
     "height": 68
    },
    "colab_type": "code",
    "executionInfo": {
     "elapsed": 718,
     "status": "ok",
     "timestamp": 1582542645906,
     "user": {
      "displayName": "Виталий Гречачин",
      "photoUrl": "https://lh3.googleusercontent.com/a-/AAuE7mDZJF3eghaET6SaBIhXkw2Ij3k2tPFd5G2ZbRvU8g=s64",
      "userId": "00685398523661527923"
     },
     "user_tz": -300
    },
    "id": "E8R4auQx4_vq",
    "outputId": "386c404c-0072-4f21-8cb4-2f360da70e1b"
   },
   "outputs": [
    {
     "data": {
      "text/plain": [
       "comment_text    False\n",
       "toxic           False\n",
       "dtype: bool"
      ]
     },
     "execution_count": 7,
     "metadata": {},
     "output_type": "execute_result"
    }
   ],
   "source": [
    "# Проверим nan\n",
    "data.isna().any()"
   ]
  },
  {
   "cell_type": "code",
   "execution_count": 8,
   "metadata": {
    "colab": {
     "base_uri": "https://localhost:8080/",
     "height": 374
    },
    "colab_type": "code",
    "executionInfo": {
     "elapsed": 665,
     "status": "ok",
     "timestamp": 1582543272575,
     "user": {
      "displayName": "Виталий Гречачин",
      "photoUrl": "https://lh3.googleusercontent.com/a-/AAuE7mDZJF3eghaET6SaBIhXkw2Ij3k2tPFd5G2ZbRvU8g=s64",
      "userId": "00685398523661527923"
     },
     "user_tz": -300
    },
    "id": "5EWv0RD45dDm",
    "outputId": "53ecc482-d74a-4068-aeb6-803a04345a03"
   },
   "outputs": [
    {
     "name": "stdout",
     "output_type": "stream",
     "text": [
      "All data:\n",
      " Mean: 394.34\n",
      "Standard deviation: 589.64\n",
      "Max: 5000.00\n",
      "Min: 6.00\n",
      "\n",
      "\n",
      "Toxic comments:\n",
      " Mean: 293.02\n",
      "Standard deviation: 608.56\n",
      "Max: 5000.00\n",
      "Min: 8.00\n",
      "\n",
      "\n",
      "Non-toxic comments:\n",
      " Mean: 404.45\n",
      "Standard deviation: 586.76\n",
      "Max: 5000.00\n",
      "Min: 6.00\n",
      "\n",
      "\n"
     ]
    }
   ],
   "source": [
    "# Проверим на сколько длиные тексты в нашем датасете. \n",
    "# А заодно начнем искать признаки, для этого посмотрим как отличаются средние длины токсичных и нетоксичных комментариев и как отличается разброс значений.\n",
    "\n",
    "lens = data.comment_text.str.len()\n",
    "print('All data:\\n',f'Mean: {lens.mean():.2f}\\nStandard deviation: {lens.std():.2f}\\nMax: {lens.max():.2f}\\nMin: {lens.min():.2f}\\n\\n')\n",
    "lens = data.comment_text[data.toxic == 1].str.len()\n",
    "print('Toxic comments:\\n', f'Mean: {lens.mean():.2f}\\nStandard deviation: {lens.std():.2f}\\nMax: {lens.max():.2f}\\nMin: {lens.min():.2f}\\n\\n')\n",
    "lens = data.comment_text[data.toxic == 0].str.len()\n",
    "print('Non-toxic comments:\\n', f'Mean: {lens.mean():.2f}\\nStandard deviation: {lens.std():.2f}\\nMax: {lens.max():.2f}\\nMin: {lens.min():.2f}\\n\\n')"
   ]
  },
  {
   "cell_type": "markdown",
   "metadata": {
    "colab_type": "text",
    "id": "2LhUFgI88eyM"
   },
   "source": [
    "Среди всех комментариев встречаются длинные тексты. Мы видим, что токсичные комментарии короче."
   ]
  },
  {
   "cell_type": "markdown",
   "metadata": {
    "colab_type": "text",
    "id": "gsdogjOi9TQl"
   },
   "source": [
    "## Baseline"
   ]
  },
  {
   "cell_type": "raw",
   "metadata": {
    "colab_type": "text",
    "id": "Ft8l8VsN9Vv3"
   },
   "source": [
    "Натренируем baseline модель, чтобы нам было от чего отталкиваться. В ходе экспериментов оказалось, что Logistic Regression дает лучшие результаты, нежели SVM."
   ]
  },
  {
   "cell_type": "code",
   "execution_count": 9,
   "metadata": {},
   "outputs": [],
   "source": [
    "# В качестве признаков, описывающих тексты, мы будем использовать TF-IDF. \n",
    "# Зачастую Count vectorizer дает хорошие результаты, но для облегчения процесса обучения, мы будем использовать именно TF-IDF, \n",
    "# поскольку полученные значения будут меньше.\n",
    "# Мы будем ипользовать в качестве признаков не только слова, но и отдельные символы. Такой подход дает лучшие результаты.\n",
    "\n",
    "word_vectorizer = TfidfVectorizer(                                  # Vectorizer для слов\n",
    "    analyzer='word',                                                # Слова в качестве признаков\n",
    "    token_pattern=r'\\w{1,}',                                        # Шаблон для извлечения токенов\n",
    "    stop_words=stop_words,                                          # Избавимся от стоп-слов\n",
    "    ngram_range=(1, 1),                                             # Не используем n-грамы\n",
    "    max_features=20000,                                             # Максимальное количество признаков\n",
    "    max_df=0.5)                                                     # Не будем использовать токены, встречающиеся более чем в 50 процентов документов\n",
    "\n",
    "\n",
    "char_vectorizer = TfidfVectorizer(                        # Vectorizer для символов\n",
    "    analyzer='char',                                      # Символы в качестве признаков\n",
    "    stop_words='english',                                 # Избавимся от стоп-слов\n",
    "    ngram_range=(1, 4),                                   # Используем различные n-граммы\n",
    "    max_features=30000,                                   # Максимальное количество признаков\n",
    "    max_df=0.5                                            # Не будем использовать токены, встречающиеся более чем в 50 процентов документов\n",
    "    )\n",
    "\n",
    "\n",
    "# Создадим матрицы признаков для тренировочных данных\n",
    "train_w_features = word_vectorizer.fit_transform(data.comment_text)\n",
    "train_c_features = char_vectorizer.fit_transform(data.comment_text)\n",
    "\n",
    "# Объединим все признаки в одну матрицу\n",
    "train_features = hstack([train_w_features, train_c_features])"
   ]
  },
  {
   "cell_type": "code",
   "execution_count": 10,
   "metadata": {},
   "outputs": [
    {
     "name": "stdout",
     "output_type": "stream",
     "text": [
      "CV score is 0.7603415794068896\n"
     ]
    }
   ],
   "source": [
    "# Наш класиификатор - Logistic Regression\n",
    "model = LogisticRegression(solver='sag')\n",
    "\n",
    "# Кросс валидация\n",
    "cv_score = np.mean(cross_val_score(model, train_features, data.toxic, cv=3, scoring='f1'))\n",
    "print('CV score is {}'.format(cv_score))"
   ]
  },
  {
   "cell_type": "markdown",
   "metadata": {},
   "source": [
    "Также натренируем catboost, в котором есть text_features."
   ]
  },
  {
   "cell_type": "code",
   "execution_count": 11,
   "metadata": {},
   "outputs": [
    {
     "name": "stdout",
     "output_type": "stream",
     "text": [
      "0:\tlearn: 0.6428693\ttest: 0.6808118\tbest: 0.6808118 (0)\ttotal: 18ms\tremaining: 18s\n",
      "100:\tlearn: 0.6466302\ttest: 0.6742996\tbest: 0.6808118 (0)\ttotal: 1.67s\tremaining: 14.8s\n",
      "200:\tlearn: 0.6624235\ttest: 0.6806702\tbest: 0.6814869 (189)\ttotal: 3.3s\tremaining: 13.1s\n",
      "300:\tlearn: 0.6696244\ttest: 0.6848750\tbest: 0.6850346 (298)\ttotal: 4.91s\tremaining: 11.4s\n",
      "400:\tlearn: 0.6765890\ttest: 0.6847945\tbest: 0.6853946 (338)\ttotal: 6.52s\tremaining: 9.75s\n",
      "500:\tlearn: 0.6820485\ttest: 0.6852259\tbest: 0.6866472 (429)\ttotal: 8.14s\tremaining: 8.11s\n",
      "600:\tlearn: 0.6851456\ttest: 0.6861260\tbest: 0.6874237 (589)\ttotal: 9.81s\tremaining: 6.51s\n",
      "700:\tlearn: 0.6897311\ttest: 0.6859029\tbest: 0.6874237 (589)\ttotal: 11.5s\tremaining: 4.88s\n",
      "800:\tlearn: 0.6933936\ttest: 0.6863369\tbest: 0.6874237 (589)\ttotal: 13.1s\tremaining: 3.25s\n",
      "900:\tlearn: 0.6974754\ttest: 0.6861761\tbest: 0.6874237 (589)\ttotal: 14.7s\tremaining: 1.62s\n",
      "999:\tlearn: 0.7002507\ttest: 0.6859524\tbest: 0.6874237 (589)\ttotal: 16.4s\tremaining: 0us\n",
      "bestTest = 0.6874236874\n",
      "bestIteration = 589\n",
      "Shrink model to first 590 iterations.\n"
     ]
    }
   ],
   "source": [
    "def fit_catboost(X_train, X_test, y_train, y_test, catboost_params={}, verbose=100):\n",
    "    learn_pool = Pool(\n",
    "        X_train, \n",
    "        y_train,\n",
    "        text_features=['comment_text'],\n",
    "        feature_names=['comment_text']\n",
    "    )\n",
    "    test_pool = Pool(\n",
    "        X_test, \n",
    "        y_test, \n",
    "        text_features=['comment_text'],\n",
    "        feature_names=['comment_text']\n",
    "    )\n",
    "    \n",
    "    catboost_default_params = {\n",
    "        'iterations': 1000,\n",
    "        'learning_rate': 0.05,\n",
    "        'eval_metric': 'F1',\n",
    "        'task_type': 'GPU'\n",
    "    }\n",
    "    \n",
    "    catboost_default_params.update(catboost_params)\n",
    "    \n",
    "    model = CatBoostClassifier(**catboost_default_params)\n",
    "    model.fit(learn_pool, eval_set=test_pool, verbose=verbose)\n",
    "\n",
    "    return model\n",
    "\n",
    "X_train, X_test, y_train, y_test = train_test_split(data[['comment_text']], data.toxic.values, test_size=0.33, random_state=42)\n",
    "cat_boost_model = fit_catboost(X_train, X_test, y_train, y_test)"
   ]
  },
  {
   "cell_type": "markdown",
   "metadata": {},
   "source": [
    "Мы получили F1 = 0.687 на тестовых даных. Чтобы улучшить catboost мы можем использовать n-грамы. Но сосредоточимся на улучшении Logistic Regression, которая набрала F1 = 0.689"
   ]
  },
  {
   "cell_type": "markdown",
   "metadata": {},
   "source": [
    "## Preprocessing and finding new features"
   ]
  },
  {
   "cell_type": "markdown",
   "metadata": {},
   "source": [
    "Предобработка текстов включает в себя такие процессы, как токенизация; лемматизация; очистка, которая может избавить от стоп-слов, пунктуации, различных симоволов и сущностей; разметка (морфологическая, синтаксическая и пр.); первод символов в нижний регистр и т.д.\n",
    "\n",
    "Наиболее быстрым способом предобработать тексты позволяют регулярные выражения. Обычно я их использую, чтобы быстро проверить гипотезы о важности токенов для модели. Я определил функцию utils.regexp_tokenizer(texts, lemmatizer, stop_words), в которой основной шаблон для поиска токенов:\n",
    "```\n",
    "\\w+\\d+\\w+?|\\d+\\w+|(?:\\w\\s)+|(?:\\w\\s?\\.\\s?)+\\w?|\\w+\\.+\\w+|\\w+'\\w+|#?\\w+-?\\w+|\\w+[\\*\\$]+\\w+?\n",
    "```\n",
    "\n",
    "Также функция принимает лемматизатор, я использовал WordNetLemmatizer.\n"
   ]
  },
  {
   "cell_type": "code",
   "execution_count": 12,
   "metadata": {},
   "outputs": [
    {
     "name": "stderr",
     "output_type": "stream",
     "text": [
      "  2%|█▌                                                                         | 3239/157571 [00:03<11:50, 217.12it/s]"
     ]
    },
    {
     "name": "stdout",
     "output_type": "stream",
     "text": [
      "\n",
      "No tokens for text:\n",
      " 1993\n",
      "\n",
      "1994\n",
      "\n",
      "1995\n",
      "\n",
      "1996\n",
      "\n",
      "1997\n",
      "\n",
      "1998\n",
      "\n",
      "1999\n",
      "\n",
      "2000\n",
      "\n",
      "2001\n",
      "\n",
      "2002\n",
      "\n",
      "2003\n"
     ]
    },
    {
     "name": "stderr",
     "output_type": "stream",
     "text": [
      "  3%|██▎                                                                       | 4966/157571 [00:04<01:43, 1468.06it/s]"
     ]
    },
    {
     "name": "stdout",
     "output_type": "stream",
     "text": [
      "\n",
      "No tokens for text:\n",
      " 193.61.111.53  15:00\n"
     ]
    },
    {
     "name": "stderr",
     "output_type": "stream",
     "text": [
      " 10%|███████▏                                                                 | 15613/157571 [00:10<01:17, 1828.97it/s]"
     ]
    },
    {
     "name": "stdout",
     "output_type": "stream",
     "text": [
      "\n",
      "No tokens for text:\n",
      " ~ \n",
      "\n",
      "68.193.147.157\n"
     ]
    },
    {
     "name": "stderr",
     "output_type": "stream",
     "text": [
      " 32%|███████████████████████▌                                                 | 50769/157571 [00:28<00:56, 1879.44it/s]"
     ]
    },
    {
     "name": "stdout",
     "output_type": "stream",
     "text": [
      "\n",
      "No tokens for text:\n",
      " 14:53,\n"
     ]
    },
    {
     "name": "stderr",
     "output_type": "stream",
     "text": [
      " 33%|████████████████████████                                                 | 51926/157571 [00:29<00:57, 1845.65it/s]"
     ]
    },
    {
     "name": "stdout",
     "output_type": "stream",
     "text": [
      "\n",
      "No tokens for text:\n",
      " 92.24.199.233|92.24.199.233]]\n"
     ]
    },
    {
     "name": "stderr",
     "output_type": "stream",
     "text": [
      " 38%|███████████████████████████▊                                             | 59911/157571 [00:33<00:54, 1807.30it/s]"
     ]
    },
    {
     "name": "stdout",
     "output_type": "stream",
     "text": [
      "\n",
      "No tokens for text:\n",
      " \"\n",
      "\n",
      " 199.209.144.211  \"\n"
     ]
    },
    {
     "name": "stderr",
     "output_type": "stream",
     "text": [
      " 51%|█████████████████████████████████████▍                                   | 80860/157571 [00:44<00:39, 1930.00it/s]"
     ]
    },
    {
     "name": "stdout",
     "output_type": "stream",
     "text": [
      "\n",
      "No tokens for text:\n",
      " \"\n",
      " '''''' 2010/2013 \"\n"
     ]
    },
    {
     "name": "stderr",
     "output_type": "stream",
     "text": [
      "100%|███████████████████████████████████████████████████████████████████████▉| 157564/157571 [01:23<00:00, 1876.39it/s]\n"
     ]
    }
   ],
   "source": [
    "lemmatizer = WordNetLemmatizer()\n",
    "lemmatized_texts = regexp_tokenizer(data.comment_text, lemmatizer, stop_words)"
   ]
  },
  {
   "cell_type": "code",
   "execution_count": 13,
   "metadata": {},
   "outputs": [
    {
     "data": {
      "text/plain": [
       "array([\"Barcelona football seasons (early 20th century) \\n\\nI looked at the Barcelona football seasons for which you added  (and some other seasons after). They could do with , really. (I don't think it's worth listing at WP:PNT, but this should put them in view of  one way or another, or if not that could be added to their talk pages). I don't want to do it myself (a) because I am lazy and (b) because I know nothing about football and would probably make translation mistakes.\",\n",
       "       '\"\\n\\n answering questions \\n\\nI won\\'t have a chance to say hello or goodbye when I\\'m blocked/banned/whatever. So, \"\"Hello; I\\'m not holding my breath on anyone addressing your questions concerning Dawn Well\\'s page on Wiki; and I better get in a good-bye, as I feel I have the lifespan of a May fly in a low ceilinged room full of bullfrogs; not because I’m wrong, but because anyone on your side of the issue is going to be attacked and baited into some infraction, an infraction ignored by someone they like, but an infraction that will be worthy of execution when committed by me.”\"'],\n",
       "      dtype=object)"
      ]
     },
     "execution_count": 13,
     "metadata": {},
     "output_type": "execute_result"
    }
   ],
   "source": [
    "data.comment_text[:2].values"
   ]
  },
  {
   "cell_type": "code",
   "execution_count": 14,
   "metadata": {},
   "outputs": [
    {
     "data": {
      "text/plain": [
       "['barcelona football season early th century looked barcelona football season added season could really think worth listing wp pnt put view one way another could added talk page want lazy know nothing football would probably make translation mistake',\n",
       " \"answering question chance say hello goodbye i'm blocked banned whatever hello i'm holding breath anyone addressing question concerning dawn well's page wiki better get good-bye feel lifespan may fly low ceilinged room full bullfrog wrong anyone side issue going attacked baited infraction infraction ignored someone like infraction worthy execution committed\"]"
      ]
     },
     "execution_count": 14,
     "metadata": {},
     "output_type": "execute_result"
    }
   ],
   "source": [
    "lemmatized_texts[:2]"
   ]
  },
  {
   "cell_type": "markdown",
   "metadata": {},
   "source": [
    "Как мы видим, для некоторых текстов не нашлось токенов. Это из-за того, что я игнорировал цифры, знаки пунктуации, а сосредоточился только на словах. Стоит отметить, что для достижения наилучших результатов на нашем датасете, возможно, стоит использовать ip адреса, даты и прочее."
   ]
  },
  {
   "cell_type": "markdown",
   "metadata": {},
   "source": [
    "В процессе исследования стало понятно, что spacy со своим лемматизатором без очистки, кроме стоп-слов, показывает лучшие результаты, нежели мой regexp_tokenizer() и сама spacy с очисткой от пунктуации и прочих символов. Но у таких инструментов, как spacy есть существенный минус, они требуют больше времени, чем регулярные выражения. Предобработка с помощью spacy заняла у меня более 50 минут. Кроме того, spacy позволяет получить части речи, что также стоит использовать как дополнительный признак для текстов. Интуиция здесь следующая - в токсичных комментариях грамматические формы отличаются от форм, которые используются в обычных комментариях. Я не нашел, как получить тэги для всех морфем словоформы в spacy (в mystem такое есть), поэтому использовал только части речи."
   ]
  },
  {
   "cell_type": "code",
   "execution_count": 15,
   "metadata": {},
   "outputs": [],
   "source": [
    "# spacy_lemmatizer возвращает (lemmatized_texts, tags) \n",
    "#nlp = spacy.load(\"en_core_web_sm\")\n",
    "#data['lemmatized_text'], data['tags'] = spacy_lemmatizer(data.comment_text, nlp)\n",
    "\n",
    "\n",
    "# я сохранил у себя на диске предобработанный датасет, поэтому буду пользоваться им \n",
    "data = pd.read_csv(data_folder + '/train_spacy3_tagged.csv')\n",
    "data = data[['comment_text', 'lemmatized_text', 'tags', 'toxic']]"
   ]
  },
  {
   "cell_type": "code",
   "execution_count": 16,
   "metadata": {},
   "outputs": [
    {
     "data": {
      "text/html": [
       "<div>\n",
       "<style scoped>\n",
       "    .dataframe tbody tr th:only-of-type {\n",
       "        vertical-align: middle;\n",
       "    }\n",
       "\n",
       "    .dataframe tbody tr th {\n",
       "        vertical-align: top;\n",
       "    }\n",
       "\n",
       "    .dataframe thead th {\n",
       "        text-align: right;\n",
       "    }\n",
       "</style>\n",
       "<table border=\"1\" class=\"dataframe\">\n",
       "  <thead>\n",
       "    <tr style=\"text-align: right;\">\n",
       "      <th></th>\n",
       "      <th>comment_text</th>\n",
       "      <th>lemmatized_text</th>\n",
       "      <th>tags</th>\n",
       "      <th>toxic</th>\n",
       "    </tr>\n",
       "  </thead>\n",
       "  <tbody>\n",
       "    <tr>\n",
       "      <th>0</th>\n",
       "      <td>Barcelona football seasons (early 20th century...</td>\n",
       "      <td>barcelona football season ( early 20th century...</td>\n",
       "      <td>NNP NN NNS -LRB- JJ JJ NN -RRB- _SP PRP VBD IN...</td>\n",
       "      <td>0</td>\n",
       "    </tr>\n",
       "    <tr>\n",
       "      <th>1</th>\n",
       "      <td>\"\\n\\n answering questions \\n\\nI won't have a c...</td>\n",
       "      <td>\" \\n\\n  answer question \\n\\n -pron- will not h...</td>\n",
       "      <td>`` _SP VBG NNS _SP PRP MD RB VB DT NN TO VB UH...</td>\n",
       "      <td>0</td>\n",
       "    </tr>\n",
       "    <tr>\n",
       "      <th>2</th>\n",
       "      <td>\"\\n\\nIssues\\nOnefortyone, the reason why I rem...</td>\n",
       "      <td>\" \\n\\n issue \\n onefortyone , the reason why -...</td>\n",
       "      <td>`` _SP NNS _SP NNP , DT NN WRB PRP VBD PRP$ NN...</td>\n",
       "      <td>0</td>\n",
       "    </tr>\n",
       "    <tr>\n",
       "      <th>3</th>\n",
       "      <td>\"\\nIn that case would \"\"new age\"\" at least be ...</td>\n",
       "      <td>\" \\n in that case would \" \" new age \" \" at lea...</td>\n",
       "      <td>`` _SP IN DT NN MD `` `` JJ NN '' `` IN JJS VB...</td>\n",
       "      <td>0</td>\n",
       "    </tr>\n",
       "    <tr>\n",
       "      <th>4</th>\n",
       "      <td>Mr. Wolf,\\nWe need to have a serious talk abou...</td>\n",
       "      <td>mr. wolf , \\n -pron- need to have a serious ta...</td>\n",
       "      <td>NNP NNP , _SP PRP VBP TO VB DT JJ NN IN NNP . ...</td>\n",
       "      <td>0</td>\n",
       "    </tr>\n",
       "    <tr>\n",
       "      <th>5</th>\n",
       "      <td>\"Please note that DPeterson has now starting a...</td>\n",
       "      <td>\" please note that dpeterson have now start ac...</td>\n",
       "      <td>`` UH VB IN NNP VBZ RB VBG VBG PRP IN NN IN VB...</td>\n",
       "      <td>0</td>\n",
       "    </tr>\n",
       "    <tr>\n",
       "      <th>6</th>\n",
       "      <td>Bald Eagle\\nI've addressed all your points so ...</td>\n",
       "      <td>bald eagle \\n -pron- have address all -pron- p...</td>\n",
       "      <td>NNP NNP _SP PRP VB VBN DT PRP$ NNS RB RB . NNS...</td>\n",
       "      <td>0</td>\n",
       "    </tr>\n",
       "    <tr>\n",
       "      <th>7</th>\n",
       "      <td>SARAH \\n\\nYou deleted it, but it remains. I em...</td>\n",
       "      <td>sarah \\n\\n -pron- delete -pron- , but -pron- r...</td>\n",
       "      <td>NNP _SP PRP VBD PRP , CC PRP VBZ . PRP VBD NN ...</td>\n",
       "      <td>0</td>\n",
       "    </tr>\n",
       "    <tr>\n",
       "      <th>8</th>\n",
       "      <td>Rand Paul \\n\\nAre you monitoring Rand Paul?  I...</td>\n",
       "      <td>rand paul \\n\\n be -pron- monitor rand paul ?  ...</td>\n",
       "      <td>NNP NNP _SP VBP PRP VBG NNP NNP . _SP IN RB , ...</td>\n",
       "      <td>0</td>\n",
       "    </tr>\n",
       "    <tr>\n",
       "      <th>9</th>\n",
       "      <td>Poor AFD rationales \\n Wikipedia:Articles for ...</td>\n",
       "      <td>poor afd rationale \\n  wikipedia : article for...</td>\n",
       "      <td>JJ NNP VBZ _SP NNP : NNS IN NN SYM NNP NNP NNP...</td>\n",
       "      <td>0</td>\n",
       "    </tr>\n",
       "  </tbody>\n",
       "</table>\n",
       "</div>"
      ],
      "text/plain": [
       "                                        comment_text  \\\n",
       "0  Barcelona football seasons (early 20th century...   \n",
       "1  \"\\n\\n answering questions \\n\\nI won't have a c...   \n",
       "2  \"\\n\\nIssues\\nOnefortyone, the reason why I rem...   \n",
       "3  \"\\nIn that case would \"\"new age\"\" at least be ...   \n",
       "4  Mr. Wolf,\\nWe need to have a serious talk abou...   \n",
       "5  \"Please note that DPeterson has now starting a...   \n",
       "6  Bald Eagle\\nI've addressed all your points so ...   \n",
       "7  SARAH \\n\\nYou deleted it, but it remains. I em...   \n",
       "8  Rand Paul \\n\\nAre you monitoring Rand Paul?  I...   \n",
       "9  Poor AFD rationales \\n Wikipedia:Articles for ...   \n",
       "\n",
       "                                     lemmatized_text  \\\n",
       "0  barcelona football season ( early 20th century...   \n",
       "1  \" \\n\\n  answer question \\n\\n -pron- will not h...   \n",
       "2  \" \\n\\n issue \\n onefortyone , the reason why -...   \n",
       "3  \" \\n in that case would \" \" new age \" \" at lea...   \n",
       "4  mr. wolf , \\n -pron- need to have a serious ta...   \n",
       "5  \" please note that dpeterson have now start ac...   \n",
       "6  bald eagle \\n -pron- have address all -pron- p...   \n",
       "7  sarah \\n\\n -pron- delete -pron- , but -pron- r...   \n",
       "8  rand paul \\n\\n be -pron- monitor rand paul ?  ...   \n",
       "9  poor afd rationale \\n  wikipedia : article for...   \n",
       "\n",
       "                                                tags  toxic  \n",
       "0  NNP NN NNS -LRB- JJ JJ NN -RRB- _SP PRP VBD IN...      0  \n",
       "1  `` _SP VBG NNS _SP PRP MD RB VB DT NN TO VB UH...      0  \n",
       "2  `` _SP NNS _SP NNP , DT NN WRB PRP VBD PRP$ NN...      0  \n",
       "3  `` _SP IN DT NN MD `` `` JJ NN '' `` IN JJS VB...      0  \n",
       "4  NNP NNP , _SP PRP VBP TO VB DT JJ NN IN NNP . ...      0  \n",
       "5  `` UH VB IN NNP VBZ RB VBG VBG PRP IN NN IN VB...      0  \n",
       "6  NNP NNP _SP PRP VB VBN DT PRP$ NNS RB RB . NNS...      0  \n",
       "7  NNP _SP PRP VBD PRP , CC PRP VBZ . PRP VBD NN ...      0  \n",
       "8  NNP NNP _SP VBP PRP VBG NNP NNP . _SP IN RB , ...      0  \n",
       "9  JJ NNP VBZ _SP NNP : NNS IN NN SYM NNP NNP NNP...      0  "
      ]
     },
     "execution_count": 16,
     "metadata": {},
     "output_type": "execute_result"
    }
   ],
   "source": [
    "data.head(10)"
   ]
  },
  {
   "cell_type": "code",
   "execution_count": 17,
   "metadata": {},
   "outputs": [
    {
     "name": "stdout",
     "output_type": "stream",
     "text": [
      "Tokens:  13442636\n",
      "Rare tokens:  122115\n"
     ]
    }
   ],
   "source": [
    "# Посчитаем количество токенов и количество редких токенов\n",
    "all_lemmatized_tokens = [w for t in data.lemmatized_text for w in t.split(' ')]\n",
    "freq = nltk.probability.FreqDist(all_lemmatized_tokens)\n",
    "uncommon = {word for (word, count) in freq.most_common() if count == 1}\n",
    "print('Tokens: ', len(all_lemmatized_tokens))\n",
    "print('Rare tokens: ', len(uncommon))"
   ]
  },
  {
   "cell_type": "markdown",
   "metadata": {},
   "source": [
    "У нас большое количество токенов, которые встречаются один раз. Здесь можно было бы применить spell correction с помощью TextBlob или других библиотек, но они не справляются со словами, вроде \"hiiiii\", \"heeeeeeellooooo\"."
   ]
  },
  {
   "cell_type": "markdown",
   "metadata": {},
   "source": [
    "Теперь подумаем, какие количественные признаки еще мы можем извлечь из текстов.\n",
    "1. Количество ненормативной лексики относительно всех слов в тексте. Это совершенно очевидно, что подобный признак будет полезен.\n",
    "2. Количество заглавных букв относительно всех символов в тексте. Зачастую можно встретить токсичные комментарии, состоящие только из заглавных букв.\n",
    "3. Количество специальных симовлов (эмодзи, разлиные редкие символы, символы, которыми можно что-то изобразить, и пр.). В датасете часто встречаются токсичные комментарии, которые в большей степени состоят из символов. Например: \"\"\"=P=\\n=E=\\n=N=\\n=I=\\n ... \"\"\"\n",
    "4. Количество уникальных слов, относительно всех слов текста. Совершенно понятно, что активная лексика в токсичных комментариях не такая обширная.\n",
    "5. Количество восклицательных знаков.\n",
    "6. Количество \"добрых\" эмодзи, смайликов.\n",
    "7. Длина текста.\n",
    "\n",
    "Я буду использовать 1-4. Для этого я подготовил функции в utils\n",
    "\n"
   ]
  },
  {
   "cell_type": "code",
   "execution_count": 18,
   "metadata": {},
   "outputs": [],
   "source": [
    "character_list = get_list_of_special_characters(data.comment_text)\n",
    "\n",
    "data['nbadwords'] = get_nbadwords(data.lemmatized_text, bad_words)   # 1\n",
    "data['ncapitals'] = get_ncapitals(data.comment_text)                 # 2\n",
    "data['nspecial'] = get_nspecial(data.comment_text, character_list)   # 3\n",
    "data['nuniquewords'] = get_nuniquewords(data.lemmatized_text)        # 4"
   ]
  },
  {
   "cell_type": "code",
   "execution_count": 19,
   "metadata": {},
   "outputs": [
    {
     "data": {
      "text/html": [
       "<div>\n",
       "<style scoped>\n",
       "    .dataframe tbody tr th:only-of-type {\n",
       "        vertical-align: middle;\n",
       "    }\n",
       "\n",
       "    .dataframe tbody tr th {\n",
       "        vertical-align: top;\n",
       "    }\n",
       "\n",
       "    .dataframe thead th {\n",
       "        text-align: right;\n",
       "    }\n",
       "</style>\n",
       "<table border=\"1\" class=\"dataframe\">\n",
       "  <thead>\n",
       "    <tr style=\"text-align: right;\">\n",
       "      <th></th>\n",
       "      <th>comment_text</th>\n",
       "      <th>lemmatized_text</th>\n",
       "      <th>tags</th>\n",
       "      <th>toxic</th>\n",
       "      <th>nbadwords</th>\n",
       "      <th>ncapitals</th>\n",
       "      <th>nspecial</th>\n",
       "      <th>nuniquewords</th>\n",
       "    </tr>\n",
       "  </thead>\n",
       "  <tbody>\n",
       "    <tr>\n",
       "      <th>0</th>\n",
       "      <td>Barcelona football seasons (early 20th century...</td>\n",
       "      <td>barcelona football season ( early 20th century...</td>\n",
       "      <td>NNP NN NNS -LRB- JJ JJ NN -RRB- _SP PRP VBD IN...</td>\n",
       "      <td>0</td>\n",
       "      <td>0.009009</td>\n",
       "      <td>0.027601</td>\n",
       "      <td>0.010616</td>\n",
       "      <td>0.576577</td>\n",
       "    </tr>\n",
       "    <tr>\n",
       "      <th>1</th>\n",
       "      <td>\"\\n\\n answering questions \\n\\nI won't have a c...</td>\n",
       "      <td>\" \\n\\n  answer question \\n\\n -pron- will not h...</td>\n",
       "      <td>`` _SP VBG NNS _SP PRP MD RB VB DT NN TO VB UH...</td>\n",
       "      <td>0</td>\n",
       "      <td>0.007634</td>\n",
       "      <td>0.022453</td>\n",
       "      <td>0.006908</td>\n",
       "      <td>0.580153</td>\n",
       "    </tr>\n",
       "    <tr>\n",
       "      <th>2</th>\n",
       "      <td>\"\\n\\nIssues\\nOnefortyone, the reason why I rem...</td>\n",
       "      <td>\" \\n\\n issue \\n onefortyone , the reason why -...</td>\n",
       "      <td>`` _SP NNS _SP NNP , DT NN WRB PRP VBD PRP$ NN...</td>\n",
       "      <td>0</td>\n",
       "      <td>0.006369</td>\n",
       "      <td>0.029891</td>\n",
       "      <td>0.001359</td>\n",
       "      <td>0.547771</td>\n",
       "    </tr>\n",
       "    <tr>\n",
       "      <th>3</th>\n",
       "      <td>\"\\nIn that case would \"\"new age\"\" at least be ...</td>\n",
       "      <td>\" \\n in that case would \" \" new age \" \" at lea...</td>\n",
       "      <td>`` _SP IN DT NN MD `` `` JJ NN '' `` IN JJS VB...</td>\n",
       "      <td>0</td>\n",
       "      <td>0.000000</td>\n",
       "      <td>0.015152</td>\n",
       "      <td>0.015152</td>\n",
       "      <td>0.750000</td>\n",
       "    </tr>\n",
       "    <tr>\n",
       "      <th>4</th>\n",
       "      <td>Mr. Wolf,\\nWe need to have a serious talk abou...</td>\n",
       "      <td>mr. wolf , \\n -pron- need to have a serious ta...</td>\n",
       "      <td>NNP NNP , _SP PRP VBP TO VB DT JJ NN IN NNP . ...</td>\n",
       "      <td>0</td>\n",
       "      <td>0.005848</td>\n",
       "      <td>0.078608</td>\n",
       "      <td>0.002577</td>\n",
       "      <td>0.467836</td>\n",
       "    </tr>\n",
       "    <tr>\n",
       "      <th>5</th>\n",
       "      <td>\"Please note that DPeterson has now starting a...</td>\n",
       "      <td>\" please note that dpeterson have now start ac...</td>\n",
       "      <td>`` UH VB IN NNP VBZ RB VBG VBG PRP IN NN IN VB...</td>\n",
       "      <td>0</td>\n",
       "      <td>0.011494</td>\n",
       "      <td>0.026247</td>\n",
       "      <td>0.000000</td>\n",
       "      <td>0.597701</td>\n",
       "    </tr>\n",
       "    <tr>\n",
       "      <th>6</th>\n",
       "      <td>Bald Eagle\\nI've addressed all your points so ...</td>\n",
       "      <td>bald eagle \\n -pron- have address all -pron- p...</td>\n",
       "      <td>NNP NNP _SP PRP VB VBN DT PRP$ NNS RB RB . NNS...</td>\n",
       "      <td>0</td>\n",
       "      <td>0.000000</td>\n",
       "      <td>0.079365</td>\n",
       "      <td>0.000000</td>\n",
       "      <td>0.875000</td>\n",
       "    </tr>\n",
       "    <tr>\n",
       "      <th>7</th>\n",
       "      <td>SARAH \\n\\nYou deleted it, but it remains. I em...</td>\n",
       "      <td>sarah \\n\\n -pron- delete -pron- , but -pron- r...</td>\n",
       "      <td>NNP _SP PRP VBD PRP , CC PRP VBZ . PRP VBD NN ...</td>\n",
       "      <td>0</td>\n",
       "      <td>0.000000</td>\n",
       "      <td>0.056604</td>\n",
       "      <td>0.000000</td>\n",
       "      <td>0.687500</td>\n",
       "    </tr>\n",
       "    <tr>\n",
       "      <th>8</th>\n",
       "      <td>Rand Paul \\n\\nAre you monitoring Rand Paul?  I...</td>\n",
       "      <td>rand paul \\n\\n be -pron- monitor rand paul ?  ...</td>\n",
       "      <td>NNP NNP _SP VBP PRP VBG NNP NNP . _SP IN RB , ...</td>\n",
       "      <td>0</td>\n",
       "      <td>0.032258</td>\n",
       "      <td>0.062500</td>\n",
       "      <td>0.008929</td>\n",
       "      <td>0.677419</td>\n",
       "    </tr>\n",
       "    <tr>\n",
       "      <th>9</th>\n",
       "      <td>Poor AFD rationales \\n Wikipedia:Articles for ...</td>\n",
       "      <td>poor afd rationale \\n  wikipedia : article for...</td>\n",
       "      <td>JJ NNP VBZ _SP NNP : NNS IN NN SYM NNP NNP NNP...</td>\n",
       "      <td>0</td>\n",
       "      <td>0.035714</td>\n",
       "      <td>0.111940</td>\n",
       "      <td>0.014925</td>\n",
       "      <td>0.678571</td>\n",
       "    </tr>\n",
       "  </tbody>\n",
       "</table>\n",
       "</div>"
      ],
      "text/plain": [
       "                                        comment_text  \\\n",
       "0  Barcelona football seasons (early 20th century...   \n",
       "1  \"\\n\\n answering questions \\n\\nI won't have a c...   \n",
       "2  \"\\n\\nIssues\\nOnefortyone, the reason why I rem...   \n",
       "3  \"\\nIn that case would \"\"new age\"\" at least be ...   \n",
       "4  Mr. Wolf,\\nWe need to have a serious talk abou...   \n",
       "5  \"Please note that DPeterson has now starting a...   \n",
       "6  Bald Eagle\\nI've addressed all your points so ...   \n",
       "7  SARAH \\n\\nYou deleted it, but it remains. I em...   \n",
       "8  Rand Paul \\n\\nAre you monitoring Rand Paul?  I...   \n",
       "9  Poor AFD rationales \\n Wikipedia:Articles for ...   \n",
       "\n",
       "                                     lemmatized_text  \\\n",
       "0  barcelona football season ( early 20th century...   \n",
       "1  \" \\n\\n  answer question \\n\\n -pron- will not h...   \n",
       "2  \" \\n\\n issue \\n onefortyone , the reason why -...   \n",
       "3  \" \\n in that case would \" \" new age \" \" at lea...   \n",
       "4  mr. wolf , \\n -pron- need to have a serious ta...   \n",
       "5  \" please note that dpeterson have now start ac...   \n",
       "6  bald eagle \\n -pron- have address all -pron- p...   \n",
       "7  sarah \\n\\n -pron- delete -pron- , but -pron- r...   \n",
       "8  rand paul \\n\\n be -pron- monitor rand paul ?  ...   \n",
       "9  poor afd rationale \\n  wikipedia : article for...   \n",
       "\n",
       "                                                tags  toxic  nbadwords  \\\n",
       "0  NNP NN NNS -LRB- JJ JJ NN -RRB- _SP PRP VBD IN...      0   0.009009   \n",
       "1  `` _SP VBG NNS _SP PRP MD RB VB DT NN TO VB UH...      0   0.007634   \n",
       "2  `` _SP NNS _SP NNP , DT NN WRB PRP VBD PRP$ NN...      0   0.006369   \n",
       "3  `` _SP IN DT NN MD `` `` JJ NN '' `` IN JJS VB...      0   0.000000   \n",
       "4  NNP NNP , _SP PRP VBP TO VB DT JJ NN IN NNP . ...      0   0.005848   \n",
       "5  `` UH VB IN NNP VBZ RB VBG VBG PRP IN NN IN VB...      0   0.011494   \n",
       "6  NNP NNP _SP PRP VB VBN DT PRP$ NNS RB RB . NNS...      0   0.000000   \n",
       "7  NNP _SP PRP VBD PRP , CC PRP VBZ . PRP VBD NN ...      0   0.000000   \n",
       "8  NNP NNP _SP VBP PRP VBG NNP NNP . _SP IN RB , ...      0   0.032258   \n",
       "9  JJ NNP VBZ _SP NNP : NNS IN NN SYM NNP NNP NNP...      0   0.035714   \n",
       "\n",
       "   ncapitals  nspecial  nuniquewords  \n",
       "0   0.027601  0.010616      0.576577  \n",
       "1   0.022453  0.006908      0.580153  \n",
       "2   0.029891  0.001359      0.547771  \n",
       "3   0.015152  0.015152      0.750000  \n",
       "4   0.078608  0.002577      0.467836  \n",
       "5   0.026247  0.000000      0.597701  \n",
       "6   0.079365  0.000000      0.875000  \n",
       "7   0.056604  0.000000      0.687500  \n",
       "8   0.062500  0.008929      0.677419  \n",
       "9   0.111940  0.014925      0.678571  "
      ]
     },
     "execution_count": 19,
     "metadata": {},
     "output_type": "execute_result"
    }
   ],
   "source": [
    "data.head(10)"
   ]
  },
  {
   "cell_type": "markdown",
   "metadata": {},
   "source": [
    "Посморим как коррелируют новые признаки с классами."
   ]
  },
  {
   "cell_type": "code",
   "execution_count": 20,
   "metadata": {},
   "outputs": [
    {
     "data": {
      "image/png": "[encoded data removed]",
      "text/plain": [
       "<Figure size 432x288 with 2 Axes>"
      ]
     },
     "metadata": {
      "needs_background": "light"
     },
     "output_type": "display_data"
    }
   ],
   "source": [
    "# Построим тепловую карту для матрицы корреляций признаков и целевого значения\n",
    "corr = data[['nspecial', 'nuniquewords', 'ncapitals', 'nbadwords', 'toxic']].corr()\n",
    "ax = sns.heatmap(\n",
    "    corr, \n",
    "    vmin=-1, vmax=1, center=0,\n",
    "    cmap=sns.diverging_palette(20, 220, n=200),\n",
    "    square=True\n",
    ")\n",
    "ax.set_xticklabels(\n",
    "    ax.get_xticklabels(),\n",
    "    rotation=45,\n",
    "    horizontalalignment='right'\n",
    ");"
   ]
  },
  {
   "cell_type": "markdown",
   "metadata": {},
   "source": [
    "Целевой признак хорошо коррелирует с ненормативной лексикой и заглавными буквами. Остальные признаки коррелируют незначительно."
   ]
  },
  {
   "cell_type": "markdown",
   "metadata": {},
   "source": [
    "## Final training and evaluating"
   ]
  },
  {
   "cell_type": "markdown",
   "metadata": {},
   "source": [
    "Сначала извлекаем новые признаки и объединяем их."
   ]
  },
  {
   "cell_type": "code",
   "execution_count": 21,
   "metadata": {},
   "outputs": [],
   "source": [
    "word_vectorizer = TfidfVectorizer(\n",
    "    analyzer='word',                                 \n",
    "    tokenizer=split_tokenizer,                       # Все токены разделены пробелом, поэтому токенизируем разделением по ' '\n",
    "    stop_words='english',                             \n",
    "    ngram_range=(1, 1),\n",
    "    max_features=20000,                              \n",
    "    max_df=0.5)                                      # и мы не учитываем токены, которые встречаются более чем в 50 процентов текстов.\n",
    "\n",
    "char_vectorizer = TfidfVectorizer(                   # Также используем символьные n-грамы из исходных текстов в качестве признаков\n",
    "    analyzer='char',\n",
    "    stop_words='english',\n",
    "    ngram_range=(1, 4),\n",
    "    max_features=20000,\n",
    "    max_df=0.5)\n",
    "\n",
    "tag_vectorizer = TfidfVectorizer(                   # Извлечем признаки из частей речи в текстах.\n",
    "    analyzer='word',\n",
    "    token_pattern=r'\\w{1,}',\n",
    "    ngram_range=(1, 2),\n",
    "    max_features=10000,\n",
    "    max_df=0.5)\n",
    "\n",
    "train_w_features = word_vectorizer.fit_transform(data.lemmatized_text)\n",
    "train_c_features = char_vectorizer.fit_transform(data.comment_text)\n",
    "train_t_features = tag_vectorizer.fit_transform(data.tags)\n",
    "\n",
    "for w in bad_words:\n",
    "    if w in word_vectorizer.vocabulary_:\n",
    "        ind = word_vectorizer.vocabulary_[w]\n",
    "        train_w_features[:, ind] *= 5.0\n",
    "    if w in char_vectorizer.vocabulary_:\n",
    "        ind = char_vectorizer.vocabulary_[w]\n",
    "        train_c_features[:, ind] *= 5.0\n",
    "\n",
    "\n",
    "train_features = hstack([train_w_features, train_c_features, train_t_features, \n",
    "                         data.nbadwords.values.reshape(-1, 1), data.nuniquewords.values.reshape(-1, 1), \n",
    "                         data.nspecial.values.reshape(-1, 1), data.ncapitals.values.reshape(-1,1)])"
   ]
  },
  {
   "cell_type": "code",
   "execution_count": 22,
   "metadata": {},
   "outputs": [],
   "source": [
    "# Увеличим значения TF-IDF для ненормативной лексики\n",
    "\n",
    "alpha = 5.0\n",
    "\n",
    "for w in bad_words:\n",
    "    if w in word_vectorizer.vocabulary_:\n",
    "        ind = word_vectorizer.vocabulary_[w]\n",
    "        train_w_features[:, ind] *= alpha\n",
    "    if w in char_vectorizer.vocabulary_:\n",
    "        ind = char_vectorizer.vocabulary_[w]\n",
    "        train_c_features[:, ind] *= alpha\n",
    "\n",
    "\n",
    "train_features = hstack([train_w_features, train_c_features, train_t_features, \n",
    "                         data.nbadwords.values.reshape(-1, 1), data.nuniquewords.values.reshape(-1, 1), \n",
    "                         data.nspecial.values.reshape(-1, 1), data.ncapitals.values.reshape(-1,1)])      "
   ]
  },
  {
   "cell_type": "code",
   "execution_count": 30,
   "metadata": {},
   "outputs": [
    {
     "name": "stdout",
     "output_type": "stream",
     "text": [
      "TF-IDF scores for non-toxic: \n",
      " [('', 369835.54010625527), ('\"', 14903.215870510438), ('\\n\\n', 5361.5996355190355), ('god', 4783.520303355421), ('\\n', 4418.009772879224), ('?', 4384.392314043034), (')', 4033.7399747456466), ('article', 3938.4806403005623), ('(', 3757.3467954638286), (':', 3751.523026009319), ('-', 3715.2235314174554), ('page', 3534.207398680681), ('!', 3133.8678187249798), ('kill', 3084.1105321054533), ('talk', 3006.6285972064534)]\n",
      "TF-IDF scores for toxic: \n",
      " [('fuck', 21268.754097442554), ('', 20920.57338504264), ('shit', 7856.964349522259), ('fucking', 7544.92680046646), ('suck', 6957.662831486181), ('bitch', 5621.759681927644), ('ass', 5605.0476591584265), ('stupid', 5557.197139726444), ('asshole', 4765.726561547852), ('dick', 4121.229522515433), ('gay', 4089.893262602097), ('faggot', 4010.221173924781), ('cunt', 3875.2424676853657), ('hell', 3509.072986856047), ('cock', 2486.2879555972972)]\n"
     ]
    }
   ],
   "source": [
    "# Посмотрим на топ признаков для разных классов.\n",
    "top_n = 15\n",
    "\n",
    "print('TF-IDF scores for non-toxic: \\n', sorted(list(zip(word_vectorizer.get_feature_names(), \n",
    "                                             train_w_features[data.toxic.values == 0].sum(0).getA1())), \n",
    "                                 key=lambda x: x[1], reverse=True)[:top_n])\n",
    "\n",
    "print('TF-IDF scores for toxic: \\n', sorted(list(zip(word_vectorizer.get_feature_names(), \n",
    "                                             train_w_features[data.toxic.values == 1].sum(0).getA1())), \n",
    "                                 key=lambda x: x[1], reverse=True)[:top_n])"
   ]
  },
  {
   "cell_type": "markdown",
   "metadata": {},
   "source": [
    "Все кажется вполне адекватным."
   ]
  },
  {
   "cell_type": "code",
   "execution_count": 24,
   "metadata": {},
   "outputs": [
    {
     "name": "stderr",
     "output_type": "stream",
     "text": [
      "C:\\Anaconda\\lib\\site-packages\\sklearn\\linear_model\\_sag.py:330: ConvergenceWarning: The max_iter was reached which means the coef_ did not converge\n",
      "  \"the coef_ did not converge\", ConvergenceWarning)\n",
      "C:\\Anaconda\\lib\\site-packages\\sklearn\\linear_model\\_sag.py:330: ConvergenceWarning: The max_iter was reached which means the coef_ did not converge\n",
      "  \"the coef_ did not converge\", ConvergenceWarning)\n",
      "C:\\Anaconda\\lib\\site-packages\\sklearn\\linear_model\\_sag.py:330: ConvergenceWarning: The max_iter was reached which means the coef_ did not converge\n",
      "  \"the coef_ did not converge\", ConvergenceWarning)\n"
     ]
    },
    {
     "name": "stdout",
     "output_type": "stream",
     "text": [
      "CV score is 0.781008259781207\n"
     ]
    }
   ],
   "source": [
    "# Тренируем модель\n",
    "model = LogisticRegression(solver='sag')\n",
    "cv_score = np.mean(cross_val_score(model, train_features, data.toxic, cv=3, scoring='f1'))\n",
    "print('CV score is {}'.format(cv_score))"
   ]
  },
  {
   "cell_type": "code",
   "execution_count": 28,
   "metadata": {},
   "outputs": [
    {
     "name": "stdout",
     "output_type": "stream",
     "text": [
      "0:\tlearn: 0.6670440\ttest: 0.6862795\tbest: 0.6862795 (0)\ttotal: 19.8ms\tremaining: 39.6s\n",
      "100:\tlearn: 0.7361347\ttest: 0.7426901\tbest: 0.7429963 (98)\ttotal: 1.89s\tremaining: 35.6s\n",
      "200:\tlearn: 0.7566251\ttest: 0.7606003\tbest: 0.7606909 (199)\ttotal: 3.63s\tremaining: 32.5s\n",
      "300:\tlearn: 0.7695121\ttest: 0.7673566\tbest: 0.7673566 (300)\ttotal: 5.35s\tremaining: 30.2s\n",
      "400:\tlearn: 0.7770147\ttest: 0.7714623\tbest: 0.7719340 (396)\ttotal: 7.07s\tremaining: 28.2s\n",
      "500:\tlearn: 0.7828782\ttest: 0.7733741\tbest: 0.7737913 (494)\ttotal: 8.77s\tremaining: 26.2s\n",
      "600:\tlearn: 0.7864395\ttest: 0.7739509\tbest: 0.7742619 (592)\ttotal: 10.5s\tremaining: 24.4s\n",
      "700:\tlearn: 0.7927057\ttest: 0.7758742\tbest: 0.7761474 (691)\ttotal: 12.2s\tremaining: 22.6s\n",
      "800:\tlearn: 0.7984901\ttest: 0.7777518\tbest: 0.7777648 (775)\ttotal: 13.9s\tremaining: 20.8s\n",
      "900:\tlearn: 0.8016006\ttest: 0.7784151\tbest: 0.7784151 (900)\ttotal: 15.6s\tremaining: 19.1s\n",
      "1000:\tlearn: 0.8050955\ttest: 0.7786866\tbest: 0.7792724 (970)\ttotal: 17.3s\tremaining: 17.3s\n",
      "1100:\tlearn: 0.8086509\ttest: 0.7792572\tbest: 0.7798272 (1090)\ttotal: 19.1s\tremaining: 15.6s\n",
      "1200:\tlearn: 0.8125759\ttest: 0.7795937\tbest: 0.7798272 (1090)\ttotal: 20.8s\tremaining: 13.8s\n",
      "1300:\tlearn: 0.8150499\ttest: 0.7803853\tbest: 0.7806700 (1296)\ttotal: 22.5s\tremaining: 12.1s\n",
      "1400:\tlearn: 0.8166772\ttest: 0.7804366\tbest: 0.7807611 (1321)\ttotal: 24.3s\tremaining: 10.4s\n",
      "1500:\tlearn: 0.8203858\ttest: 0.7808235\tbest: 0.7811990 (1464)\ttotal: 26s\tremaining: 8.64s\n",
      "1600:\tlearn: 0.8227855\ttest: 0.7808347\tbest: 0.7812391 (1502)\ttotal: 27.8s\tremaining: 6.92s\n",
      "1700:\tlearn: 0.8254351\ttest: 0.7808459\tbest: 0.7814940 (1615)\ttotal: 29.5s\tremaining: 5.18s\n",
      "1800:\tlearn: 0.8285796\ttest: 0.7810279\tbest: 0.7814940 (1615)\ttotal: 31.2s\tremaining: 3.45s\n",
      "1900:\tlearn: 0.8315572\ttest: 0.7804196\tbest: 0.7817271 (1809)\ttotal: 32.9s\tremaining: 1.72s\n",
      "1999:\tlearn: 0.8337151\ttest: 0.7818585\tbest: 0.7822844 (1970)\ttotal: 34.7s\tremaining: 0us\n",
      "bestTest = 0.7822843823\n",
      "bestIteration = 1970\n",
      "Shrink model to first 1971 iterations.\n"
     ]
    }
   ],
   "source": [
    "# Посмотрим на результаты catboost\n",
    "def fit_catboost(X_train, X_test, y_train, y_test, catboost_params={}, verbose=100):\n",
    "    learn_pool = Pool(\n",
    "        X_train, \n",
    "        y_train,\n",
    "        text_features=['comment_text', 'lemmatized_text', 'tags'],\n",
    "        feature_names=list(X_train)\n",
    "    )\n",
    "    test_pool = Pool(\n",
    "        X_test, \n",
    "        y_test, \n",
    "        text_features=['comment_text', 'lemmatized_text', 'tags'],\n",
    "        feature_names=list(X_train)\n",
    "    )\n",
    "    \n",
    "    catboost_default_params = {\n",
    "        'iterations': 2000,\n",
    "        'learning_rate': 0.05,\n",
    "        'eval_metric': 'F1',\n",
    "        'task_type': 'GPU'\n",
    "    }\n",
    "    \n",
    "    catboost_default_params.update(catboost_params)\n",
    "    \n",
    "    model = CatBoostClassifier(**catboost_default_params)\n",
    "    model.fit(learn_pool, eval_set=test_pool, verbose=verbose)\n",
    "\n",
    "    return model\n",
    "\n",
    "X_train, X_test, y_train, y_test = train_test_split(data[[column for column in data.columns if column != 'toxic']],\n",
    "                                                    data.toxic.values, test_size=0.33, random_state=42)\n",
    "cat_boost_model = fit_catboost(X_train, X_test, y_train, y_test)"
   ]
  },
  {
   "cell_type": "markdown",
   "metadata": {},
   "source": [
    "Вполне возможно n-грамы помогут еше улучшить модель. \n",
    "\n",
    "Ну, а теперь, чтобы порадовать глаз, можно использовать ROC-AUC =) "
   ]
  },
  {
   "cell_type": "code",
   "execution_count": 26,
   "metadata": {},
   "outputs": [
    {
     "name": "stderr",
     "output_type": "stream",
     "text": [
      "C:\\Anaconda\\lib\\site-packages\\sklearn\\linear_model\\_sag.py:330: ConvergenceWarning: The max_iter was reached which means the coef_ did not converge\n",
      "  \"the coef_ did not converge\", ConvergenceWarning)\n",
      "C:\\Anaconda\\lib\\site-packages\\sklearn\\linear_model\\_sag.py:330: ConvergenceWarning: The max_iter was reached which means the coef_ did not converge\n",
      "  \"the coef_ did not converge\", ConvergenceWarning)\n",
      "C:\\Anaconda\\lib\\site-packages\\sklearn\\linear_model\\_sag.py:330: ConvergenceWarning: The max_iter was reached which means the coef_ did not converge\n",
      "  \"the coef_ did not converge\", ConvergenceWarning)\n"
     ]
    },
    {
     "name": "stdout",
     "output_type": "stream",
     "text": [
      "CV score is 0.9773713992871795\n"
     ]
    }
   ],
   "source": [
    "model = LogisticRegression(solver='sag')\n",
    "cv_score = np.mean(cross_val_score(model, train_features, data.toxic, cv=3, scoring='roc_auc'))\n",
    "print('CV score is {}'.format(cv_score))"
   ]
  },
  {
   "cell_type": "markdown",
   "metadata": {},
   "source": [
    "## Further actions"
   ]
  },
  {
   "cell_type": "markdown",
   "metadata": {},
   "source": [
    "Теперь можно посмотреть тексты, где модель ошибается, и построить гипотезы о возможных улучшаениях на стадии предобработки. Далее мы можем попробовать более сложные модели, сделать grid search для подбора лучших параметров моделей. Например, стоит попробовать word embeddings и подавать их на вход LSTM или CNN, а лосс функцию подогнать под целевую метрику. Для достижения лучшего результата по метрикам нужно натренировать много разных моделей, например, Log Reg, Random Forest (к тому же эту модель можно использовать для определения важности признаков), Bagging, Catboost, LSTM, CNN, а затем сделать из них ансамбль. "
   ]
  }
 ],
 "metadata": {
  "accelerator": "GPU",
  "colab": {
   "authorship_tag": "ABX9TyNekIZpu5IMEGZwFfLv0cgd",
   "collapsed_sections": [
    "QSpJvCF4C3mo",
    "OiwVeaV_lQYJ"
   ],
   "machine_shape": "hm",
   "name": "Toxic.ipynb",
   "provenance": []
  },
  "kernelspec": {
   "display_name": "Python 3",
   "language": "python",
   "name": "python3"
  },
  "language_info": {
   "codemirror_mode": {
    "name": "ipython",
    "version": 3
   },
   "file_extension": ".py",
   "mimetype": "text/x-python",
   "name": "python",
   "nbconvert_exporter": "python",
   "pygments_lexer": "ipython3",
   "version": "3.7.4"
  }
 },
 "nbformat": 4,
 "nbformat_minor": 1
}
